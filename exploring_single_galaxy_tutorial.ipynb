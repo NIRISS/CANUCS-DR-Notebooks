{
 "cells": [
  {
   "cell_type": "markdown",
   "metadata": {},
   "source": [
    "# Exploring a Single CANUCS Galaxy\n",
    "This tutorial will guide you through the process of loading and exploring data for a single galaxy from the CANUCS survey using the `CANUCSGalaxy` class."
   ]
  },
  {
   "cell_type": "markdown",
   "metadata": {},
   "source": [
    "## 1. Imports\n",
    "\n",
    "First, we need to import the necessary libraries.\n",
    "- `numpy` for numerical operations.\n",
    "- `matplotlib.pyplot` for plotting.\n",
    "- `CANUCSGalaxy` from `canucs_fns.py` which contains the main class to interact with the galaxy data.\n",
    "- `os` for operating system dependent functionality (like changing directory if needed, though typically not required if files are in the same directory).\n",
    "- `datasets` from Hugging Face for loading the data.\n",
    "\n",
    "The `canucs_fns.py` file should be in the same directory as this notebook, or accessible in your Python path."
   ]
  },
  {
   "cell_type": "code",
   "metadata": {},
   "outputs": [],
   "source": [
    "import numpy as np\n",
    "import matplotlib.pyplot as plt\n",
    "from astropy.table import Table\n",
    "import os\n",
    "# Ensure you have 'canucs_fns.py' in the same directory or your PYTHONPATH\n",
    "from canucs_fns import CANUCSGalaxy\n",
    "# if this doesn't work install the datasets package with pip install datasets\n",
    "import datasets\n",
    "from datasets import load_dataset"
   ],
   "execution_count": null
  },
  {
   "cell_type": "markdown",
   "metadata": {},
   "source": [
    "## 2. Initializing the CANUCSGalaxy Class\n",
    "\n",
    "To work with a specific galaxy, we need to initialize the `CANUCSGalaxy` class with its `canucs_id`.\n",
    "\n",
    "### Finding a `canucs_id`\n",
    "The CANUCS survey has a list of identified galaxies. You can find a list of these IDs in the `canucs_idlist.dat` file or a smaller subset in `smallidlist.npz`. Let's load and inspect `canucs_idlist.dat` to see some available IDs.\n",
    "\n",
    "The ID is a 7-digit number. The first digit refers to the cluster, and the second to the field (clu, ncf, nsf).\n",
    "- Cluster key: {'1':'macs0417','2':'a370','3':'macs0416','4':'macs1423','5':'macs1149'}\n",
    "- Field key: {'1':'clu', '2':'ncf', '3':'nsf'}\n",
    "\n",
    "For this tutorial, we'll use the galaxy with `canucs_id = 1102637`. This ID is known to be in the `smallidlist.npz` which is used by default in the `CANUCSGalaxy` class for quick demonstrations."
   ]
  },
  {
   "cell_type": "code",
   "metadata": {},
   "outputs": [],
   "source": [
    "# Displaying a few IDs from canucs_idlist.dat for user reference\n",
    "try:\n",
    "    canucs_ids_table = Table.read('canucs_idlist.dat', format='ascii')\n",
    "    print(\"Sample CANUCS IDs from canucs_idlist.dat:\")\n",
    "    print(canucs_ids_table[:5]) # Print first 5 IDs as an example\n",
    "except FileNotFoundError:\n",
    "    print(\"canucs_idlist.dat not found. Make sure it's in the same directory.\")\n",
    "\n",
    "# Also show the small_idlist which is used by default in CANUCSGalaxy\n",
    "try:\n",
    "    small_idlist = np.load('smallidlist.npz')['all_idx']\n",
    "    print(\"\\nFirst few IDs from smallidlist.npz (used by default in CANUCSGalaxy for demo):\")\n",
    "    print(small_idlist[:5])\n",
    "except FileNotFoundError:\n",
    "    print(\"\\nsmallidlist.npz not found. Make sure it's in the same directory.\")\n",
    "\n",
    "# Define the ID we'll use for this tutorial\n",
    "tutorial_canucs_id = 1102637\n",
    "print(f\"\\nWe will use canucs_id: {tutorial_canucs_id} for this tutorial.\")"
   ],
   "execution_count": null
  },
  {
   "cell_type": "markdown",
   "metadata": {},
   "source": [
    "Now, let's create an instance of the `CANUCSGalaxy` class for our chosen galaxy. When you instantiate the class, it will load the galaxy's data from the Hugging Face dataset \"kiyer/canucs_test\". This might take a moment depending on your internet connection and if the data needs to be downloaded."
   ]
  },
  {
   "cell_type": "code",
   "metadata": {},
   "outputs": [],
   "source": [
    "cg = CANUCSGalaxy(canucs_id=tutorial_canucs_id)\n",
    "print(\"\\nCANUCSGalaxy object created successfully.\")"
   ],
   "execution_count": null
  },
  {
   "cell_type": "markdown",
   "metadata": {},
   "source": [
    "## 3. Displaying Basic Galaxy Information\n",
    "\n",
    "Once the `CANUCSGalaxy` object (`cg`) is created, you can display some basic information about the loaded galaxy. The `print_canucs_id()` method prints the galaxy's CANUCS ID and the field it belongs to.\n",
    "\n",
    "The CANUCS survey observes several galaxy cluster fields. The `fieldname` (e.g., 'macs0417clu') tells you which specific cluster and sub-field (clu, ncf, or nsf) this galaxy is located in."
   ]
  },
  {
   "cell_type": "code",
   "metadata": {},
   "outputs": [],
   "source": [
    "cg.print_canucs_id()"
   ],
   "execution_count": null
  },
  {
   "cell_type": "markdown",
   "metadata": {},
   "source": [
    "## 4. Plotting Photometric Redshift (Photo-z) PDF\n",
    "\n",
    "The `plot_photoz_posterior()` method allows you to visualize the probability distribution function (PDF) for the galaxy's photometric redshift.\n",
    "\n",
    "**What is a Photometric Redshift?**\n",
    "Redshift (z) is a measure of how much the light from a distant object has been stretched due to the expansion of the Universe. It's a key indicator of distance.\n",
    "- **Spectroscopic redshifts** are very accurate but require taking a spectrum of the galaxy, which is time-consuming.\n",
    "- **Photometric redshifts (photo-z's)** are estimated by observing the galaxy's brightness in several different filters (colors). While less precise than spectroscopic redshifts, they can be obtained for many more galaxies.\n",
    "\n",
    "The PDF shows the probability of the galaxy being at different redshifts based on its photometry. A sharp peak indicates a more certain photo-z. The plot also displays the best-fit photometric redshift (`z_phot`) as a vertical line and the chi-squared (`χ²`) value from the EAZY code, which is a common tool for photo-z estimation. A lower `χ²` generally indicates a better fit."
   ]
  },
  {
   "cell_type": "code",
   "metadata": {},
   "outputs": [],
   "source": [
    "cg.plot_photoz_posterior()"
   ],
   "execution_count": null
  },
  {
   "cell_type": "markdown",
   "metadata": {},
   "source": [
    "## 5. Plotting Image Cutouts\n",
    "\n",
    "The `plot_cutout()` method is used to display a mosaic of image cutouts for the galaxy in different JWST NIRISS filters.\n",
    "\n",
    "**Understanding the Output:**\n",
    "The plot shows several images:\n",
    "- **Detection Image:** Typically a deep, combined image where the galaxy was initially detected.\n",
    "- **Segmentation Map:** An image showing how the different sources in the field have been segmented or separated by an algorithm. Different colors usually represent different detected objects.\n",
    "- **RGB Composite Image:** A color image created by combining three different filter images (e.g., F444W for red, F277W for green, F150W for blue by default). This helps visualize the galaxy's overall color and morphology. The filters used for RGB are listed on the plot.\n",
    "- **Individual Filter Cutouts:** Grayscale cutouts of the galaxy as seen in each of the filters specified in the `filt_list` parameter. The filter name is displayed on each subplot.\n",
    "\n",
    "**Customization:**\n",
    "You can customize the plot using several parameters:\n",
    "- `plt_per_row`: Number of plots per row in the mosaic.\n",
    "- `filt_list`: A list of strings specifying which filter cutouts to display. By default, it shows: `['F090W', 'F115W', 'F150W', 'F200W', 'F277W', 'F356W', 'F410M', 'F444W']`.\n",
    "- `filts_RGB`: A list of three filter names to be used for the R, G, and B channels of the color composite image. Default is `['F444W','F277W','F150W']`.\n",
    "- `vmin`, `vmax_det_im`, `vmax_cutouts`: Parameters to control the image scaling (minimum and maximum pixel values for display) for the detection image and other cutouts.\n",
    "- `cmap`: Colormap for the segmentation map (default is 'Spectral')."
   ]
  },
  {
   "cell_type": "code",
   "metadata": {},
   "outputs": [],
   "source": [
    "# Plot cutouts with default parameters\n",
    "cg.plot_cutout()"
   ],
   "execution_count": null
  },
  {
   "cell_type": "markdown",
   "metadata": {},
   "source": [
    "Let's try customizing the `filt_list` to show fewer filters and change the RGB composite."
   ]
  },
  {
   "cell_type": "code",
   "metadata": {},
   "outputs": [],
   "source": [
    "# Example of plotting with a custom list of filters and different RGB filters\n",
    "cg.plot_cutout(filt_list=['F090W', 'F150W', 'F277W', 'F444W'], \n",
    "               filts_RGB=['F444W', 'F200W', 'F090W'])"
   ],
   "execution_count": null
  },
  {
   "cell_type": "markdown",
   "metadata": {},
   "source": [
    "## 6. Plotting Spectral Energy Distribution (SED) Fits\n",
    "\n",
    "The `plot_sed_fits()` method displays a comprehensive plot summarizing the results of fitting the galaxy's observed photometry (its brightness in different filters) with theoretical galaxy models. This process helps astronomers infer physical properties of the galaxy, such as its stellar mass, star formation rate, age, and dust content.\n",
    "\n",
    "The `canucs_fns` library uses two different SED fitting codes/models:\n",
    "- **Dense Basis:** A non-parametric approach to fitting SEDs.\n",
    "- **Bagpipes:** A Bayesian spectral fitting code.\n",
    "\n",
    "The plot generated by `plot_sed_fits()` (if `bp_fits_exist` is True for the galaxy) includes:\n",
    "\n",
    "**a) Corner Plot (Top-Left Quadrants):**\n",
    "- This shows the posterior probability distributions for several key physical parameters derived from the SED fitting.\n",
    "- Typically, it displays parameters like:\n",
    "    - `log M*`: Logarithm of the stellar mass (in solar masses).\n",
    "    - `log SFR_inst`: Logarithm of the instantaneous Star Formation Rate (in solar masses per year).\n",
    "    - `A_V`: Dust attenuation (in magnitudes).\n",
    "    - `log Z/Z_sun`: Logarithm of the metallicity relative to the Sun.\n",
    "- The contours show regions of 1-sigma and 2-sigma confidence. The histograms on the diagonal show the marginalized PDF for each parameter.\n",
    "- Results from Dense Basis are often shown in one color (e.g., dodgerblue) and Bagpipes in another (e.g., tomato).\n",
    "\n",
    "**b) SED Plot (Top-Right):**\n",
    "- **Observed Photometry:** Black points with error bars show the galaxy's measured flux density in different filters at their respective wavelengths.\n",
    "- **Model Photometry:** Colored circles (dodgerblue for Dense Basis, tomato for Bagpipes) show the predicted flux densities from the best-fit models in those same filters.\n",
    "- **Model Spectra:** Colored lines show the full best-fit model spectra over a wider wavelength range.\n",
    "- **Key Information:**\n",
    "    - The CANUCS ID and field are displayed.\n",
    "    - `χ²_DoF`: The reduced chi-squared value for each fit, indicating goodness-of-fit (lower is generally better).\n",
    "    - `z_phot`: The photometric redshift used for the fitting.\n",
    "- The y-axis is typically log-scaled flux density (in microJanskys, µJy), and the x-axis is log-scaled wavelength (in microns, µm).\n",
    "\n",
    "**c) Residuals Plot (Middle-Right, below SED plot):**\n",
    "- This plot shows the residuals of the fit, usually in terms of `χ = (data - model) / uncertainty`.\n",
    "- Points closer to zero indicate better agreement between the model and observed photometry for that filter.\n",
    "\n",
    "**d) Star Formation History (SFH) Plot (Bottom-Left or Bottom-Right):**\n",
    "- This illustrates the inferred star formation rate of the galaxy as a function of lookback time (or age of the Universe).\n",
    "- Shaded regions often represent confidence intervals (e.g., 16th to 84th percentile), and solid lines show the median or best-fit SFH.\n",
    "- Again, results from Dense Basis and Bagpipes are shown in their respective colors.\n",
    "- The x-axis is lookback time (in Gigayears, Gyr), and the y-axis is Star Formation Rate (SFR) in solar masses per year (M_sun/yr).\n",
    "\n",
    "*Note: If `bp_fits_exist` is False for a particular galaxy, only the Dense Basis fits might be shown, or the plot might be different.*"
   ]
  },
  {
   "cell_type": "code",
   "metadata": {},
   "outputs": [],
   "source": [
    "cg.plot_sed_fits()"
   ],
   "execution_count": null
  },
  {
   "cell_type": "markdown",
   "metadata": {},
   "source": [
    "## 7. Accessing Underlying Data\n",
    "\n",
    "Beyond the pre-defined plots, you can directly access the underlying data associated with the loaded CANUCS galaxy. This is useful for custom analysis or plotting.\n",
    "\n",
    "The `CANUCSGalaxy` object stores data in a structure similar to a dictionary, where each piece of information is associated with a 'key'."
   ]
  },
  {
   "cell_type": "markdown",
   "metadata": {},
   "source": [
    "### 7.1 Listing Available Data Keys\n",
    "\n",
    "To see all the data keys available for the current galaxy, you can use the `list_keys()` method. This will print a list of all items you can retrieve."
   ]
  },
  {
   "cell_type": "code",
   "metadata": {},
   "outputs": [],
   "source": [
    "cg.list_keys()"
   ],
   "execution_count": null
  },
  {
   "cell_type": "markdown",
   "metadata": {},
   "source": [
    "### 7.2 Retrieving Data with `get_key()`\n",
    "\n",
    "Once you know the key for the data you're interested in, you can retrieve it using the `get_key()` method.\n",
    "\n",
    "- For filter data (keys starting with 'F', e.g., 'F090W'), this method returns a 2D numpy array representing the image cutout.\n",
    "- For other scalar or 1D array data (e.g., 'z_phot', 'chi2_db'), it returns the corresponding value or numpy array.\n",
    "\n",
    "Let's try retrieving a few examples:"
   ]
  },
  {
   "cell_type": "code",
   "metadata": {},
   "outputs": [],
   "source": [
    "# Example 1: Get the F090W filter image data\n",
    "f090w_image_data = cg.get_key('F090W')\n",
    "\n",
    "# Display its shape and plot it using matplotlib\n",
    "print(f\"Shape of F090W image data: {f090w_image_data.shape}\")\n",
    "\n",
    "plt.figure(figsize=(5,5))\n",
    "plt.imshow(f090w_image_data, origin='lower', cmap='Greys_r', vmin=0, vmax=0.5) # Adjust vmin/vmax as needed\n",
    "plt.title(\"F090W Filter Cutout (via get_key)\")\n",
    "plt.axis('off')\n",
    "plt.show()"
   ],
   "execution_count": null
  },
  {
   "cell_type": "code",
   "metadata": {},
   "outputs": [],
   "source": [
    "# Example 2: Get the photometric redshift (z_phot)\n",
    "z_phot_value = cg.get_key('z_phot')\n",
    "print(f\"Photometric redshift (z_phot): {z_phot_value}\")\n",
    "\n",
    "# Example 3: Get the chi-squared value from Dense Basis SED fit\n",
    "chi2_db_value = cg.get_key('chi2_db')\n",
    "print(f\"Dense Basis SED fit chi-squared (chi2_db): {chi2_db_value}\")"
   ],
   "execution_count": null
  },
  {
   "cell_type": "markdown",
   "metadata": {},
   "source": [
    "### 7.3 Specific Getter Methods for SFH and SED data\n",
    "\n",
    "The `CANUCSGalaxy` class also provides specific getter methods for retrieving structured data like Star Formation Histories (SFH) and Spectral Energy Distributions (SEDs) from the Dense Basis and Bagpipes fits. These are convenient as they return multiple related arrays at once.\n",
    "\n",
    "- `get_sfh_dense_basis()`: Returns `timeax_db, sfh_16_db, sfh_50_db, sfh_84_db`\n",
    "- `get_sfh_bagpipes()`: Returns `timeax_bp, sfh_16_bp, sfh_50_bp, sfh_84_bp`\n",
    "- `get_sed_dense_basis()`: Returns `db_sed, lam_centers_db, db_lam, db_spec, db_residuals`\n",
    "- `get_sed_bagpipes()`: Returns `bp_sed, lam_centers_bp, bp_lam, bp_spec, bp_residuals`"
   ]
  },
  {
   "cell_type": "code",
   "metadata": {},
   "outputs": [],
   "source": [
    "# Example: Get SFH data from Dense Basis\n",
    "time_db, sfh16_db, sfh50_db, sfh84_db = cg.get_sfh_dense_basis()\n",
    "\n",
    "print(\"Dense Basis SFH data retrieved.\")\n",
    "print(f\"Time axis shape: {time_db.shape}\")\n",
    "print(f\"SFH 50th percentile shape: {sfh50_db.shape}\")\n",
    "\n",
    "# You could then plot this data, for example:\n",
    "plt.figure(figsize=(8,5))\n",
    "plt.plot(time_db, sfh50_db, color='dodgerblue', label='SFH 50th (Dense Basis)')\n",
    "plt.fill_between(time_db, sfh16_db, sfh84_db, color='dodgerblue', alpha=0.3, label='16th-84th percentile')\n",
    "plt.xlabel(\"Lookback Time (Gyr)\")\n",
    "plt.ylabel(\"SFR (M_sun/yr)\")\n",
    "plt.title(\"Dense Basis SFH (via get_sfh_dense_basis)\")\n",
    "plt.legend()\n",
    "plt.show()"
   ],
   "execution_count": null
  },
  {
   "cell_type": "markdown",
   "metadata": {},
   "source": [
    "Feel free to explore other keys listed by `list_keys()` and retrieve their data using `get_key()` or the specific getter methods to perform your own analyses!"
   ]
  }
 ],
 "metadata": {
  "kernelspec": {
   "display_name": "Python 3 (ipykernel)",
   "language": "python",
   "name": "python3"
  },
  "language_info": {
   "codemirror_mode": {
    "name": "ipython",
    "version": 3
   },
   "file_extension": ".py",
   "mimetype": "text/x-python",
   "name": "python",
   "nbconvert_exporter": "python",
   "pygments_lexer": "ipython3",
   "version": "3.9.7"
  }
 },
 "nbformat": 4,
 "nbformat_minor": 5
}
